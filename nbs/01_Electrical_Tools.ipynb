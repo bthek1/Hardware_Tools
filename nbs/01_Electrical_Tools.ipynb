{
 "cells": [
  {
   "cell_type": "markdown",
   "id": "e7ad083c-6852-4501-ac34-82570df5ab86",
   "metadata": {},
   "source": [
    "# Eletrical Tools\n",
    "\n",
    "> Electrical Engineering Tools\n",
    "\n",
    "- skip_showdoc: true\n",
    "- Skip_exec: true"
   ]
  },
  {
   "cell_type": "markdown",
   "id": "ecb9ed4f-9136-498b-a34f-9fb5d9b444b8",
   "metadata": {},
   "source": [
    "## **1. Basic Electrical Tools**\n",
    "\n",
    "| **Tool**                 | **Purpose**                                 | **Recommendation**                           |\n",
    "|--------------------------|---------------------------------------------|----------------------------------------------|\n",
    "| **Multimeter**            | Measures voltage, current, resistance, continuity. | **Fluke 87V** or **Brymen BM235** |\n",
    "| **Screwdrivers (Insulated)** | For working on electrical connections and devices. | **Wiha Insulated Screwdriver Set** |\n",
    "| **Pliers (Needle-nose, Lineman)** | For cutting, twisting, and holding wires. | **Klein Tools Needle-nose Pliers** |\n",
    "| **Wire Stripper**         | Strips insulation from electrical wires.    | **Klein Tools Wire Stripper/Cutter** |\n",
    "| **Cable Cutter**          | Cuts through wires and cables.              | **Knipex Cable Cutter** |\n",
    "| **Crimping Tool**         | For crimping connectors onto wires.         | **IWISS Ratcheting Crimper** |\n",
    "| **Electrical Tape**       | Insulates and secures electrical connections. | **3M Scotch Electrical Tape** |"
   ]
  },
  {
   "cell_type": "markdown",
   "id": "c4e0c89d-76ba-4a5c-9426-cc96e99a519d",
   "metadata": {},
   "source": [
    "## **2. Measurement and Testing Tools**\n",
    "\n",
    "| **Tool**                 | **Purpose**                                  | **Recommendation**                           |\n",
    "|--------------------------|----------------------------------------------|----------------------------------------------|\n",
    "| **Clamp Meter**           | Measures AC/DC current without breaking the circuit. | **Fluke 376 FC** or **Uni-T UT210E** |\n",
    "| **Oscilloscope**          | Visualizes voltage signals and waveforms over time. | **Siglent SDS1104X-E** or **Siglent SDS1202X-E** |\n",
    "| **Function Generator**    | Generates electrical waveforms for testing circuits. | **Siglent SDG1032X** |\n",
    "| **LCR Meter**             | Measures inductance, capacitance, and resistance. | **DER EE DE-5000** |\n",
    "| **Power Supply (DC)**     | Provides regulated DC voltage for circuits.  | **Rigol DP832** or **Korad KD3005P** |\n",
    "| **Insulation Tester**     | Tests insulation resistance in electrical components and systems. | **Fluke 1507** |\n",
    "| **Thermal Camera**        | Detects heat emissions for identifying faults in components. | **Flir TG165** |\n",
    "| **Logic Analyzer**        | Analyzes digital signals for testing digital circuits. | **Saleae Logic 8** |"
   ]
  },
  {
   "cell_type": "markdown",
   "id": "ddfe6b2c-7b2f-490a-85a4-e79330639307",
   "metadata": {},
   "source": [
    "### **Best Instruments for Electrical Engineers**\n",
    "\n",
    "| **Category**           | **Model**                            | **Key Features**                                    | **Price (AUD)** | **Why It's Recommended**                            |\n",
    "|------------------------|--------------------------------------|-----------------------------------------------------|-----------------|----------------------------------------------------|\n",
    "| **Multimeter**          | **Fluke 87V**                        | - True RMS, 20,000 count display, temperature measurement, accurate voltage & current reading. <br>- CAT III (1000V) & CAT IV (600V) safety rating. | ~650            | High accuracy and reliability, suitable for both industrial and lab use.|\n",
    "|                        | **Brymen BM235**                     | - True RMS, 6000 count, auto-ranging, non-contact voltage detector, temperature. | ~250            | Great value with robust features, ideal for mid-budget users.|\n",
    "|                        | **Klein Tools MM700**                | - True RMS, auto-ranging, CAT IV 600V, 1000V measurement, NCV detector. | ~180            | Best budget multimeter with essential features for engineers. |\n",
    "| **Clamp Meter**         | **Fluke 376 FC**                     | - True RMS, 1000A AC/DC, CAT IV (600V), CAT III (1000V), wireless data logging via Fluke Connect. | ~900            | High-end, precise clamp meter for current measurement in industrial applications.|\n",
    "|                        | **Uni-T UT210E**                     | - True RMS, 100A AC/DC, compact design, auto-ranging, NCV detection. | ~100            | Best budget clamp meter, compact, and good for everyday use. |\n",
    "|                        | **Klein Tools CL800**                | - True RMS, 1000A AC/DC, CAT IV 600V, temperature, NCV detection. | ~250            | Great mid-range option with solid features for fieldwork. |\n",
    "| **DC Power Supply**     | **Rigol DP832**                      | - Triple output (30V/3A, 30V/3A, 5V/3A), high resolution, low noise, programmable interface. | ~1,100          | Highly versatile and programmable, suitable for precise lab applications. |\n",
    "|                        | **Korad KD3005P**                    | - Single channel, 30V/5A, programmable, over-voltage and current protection. | ~250            | Affordable and reliable for basic DC power supply needs. |\n",
    "|                        | **Tekpower TP3005T**                 | - 0-30V, 0-5A, analog control, over-voltage protection. | ~150            | Good for engineers on a budget who need basic DC power regulation. |\n",
    "| **AC Power Supply**     | **BK Precision 9801**                | - 300V AC, 10A, adjustable, programmable, dual display, remote control via USB. | ~2,200          | Advanced, highly accurate for testing various AC-powered devices. |\n",
    "|                        | **APPA PQR1000**                     | - Portable AC power quality analyzer, CAT III 600V, with current and voltage monitoring. | ~1,200          | Mid-range option, great for measuring and analyzing AC power quality. |\n",
    "|                        | **AIM-TTI TGA1241**                  | - 240V, frequency range 10Hz-10MHz, high accuracy with waveform synthesis. | ~3,000          | High-performance lab-grade AC power supply with precise frequency control. |\n",
    "| **Oscilloscope**        | **Rigol DS1054Z**                    | - 4 channels, 50 MHz bandwidth (upgradable), 1 GSa/s sampling rate, 12 Mpts memory. | ~550            | Best budget oscilloscope with solid performance, ideal for lab use. |\n",
    "|                        | **Siglent SDS1202X-E**               | - 2 channels, 200 MHz bandwidth, 1 GSa/s sampling rate, 14 Mpts memory, waveform capture rate up to 400,000 wfm/s. | ~650            | Great value for performance, with higher bandwidth at a reasonable price. |\n",
    "|                        | **Tektronix TBS1052B**               | - 2 channels, 50 MHz bandwidth, 500 MS/s, basic FFT analysis. | ~900            | Reliable entry-level scope for education or general electronics work. |"
   ]
  },
  {
   "cell_type": "markdown",
   "id": "3457daf1-7cfe-4f81-a0ee-4a91f451f05b",
   "metadata": {},
   "source": [
    "### **Key Considerations**\n",
    "\n",
    "- **Multimeters**: Fluke 87V is a gold standard for accuracy and durability, but if you need a mid-budget alternative, the Brymen BM235 is great for everyday engineering use. Klein Tools MM700 is a budget-friendly, essential multimeter.\n",
    "  \n",
    "- **Clamp Meters**: Fluke 376 FC is highly recommended for professional and industrial work due to its precision and wireless logging, while the Uni-T UT210E is a budget-friendly and compact option for basic AC/DC current measurements.\n",
    "\n",
    "- **DC Power Supply**: Rigol DP832 offers superior control and versatility in lab environments, but the Korad KD3005P is an excellent budget choice with basic features for engineers.\n",
    "\n",
    "- **AC Power Supply**: BK Precision 9801 is top-tier for its precision and programmability, ideal for serious testing. AIM-TTI TGA1241 is a more specialized option for waveform synthesis.\n",
    "\n",
    "- **Oscilloscopes**: Rigol DS1054Z is unbeatable for its price-to-performance ratio, with upgradable bandwidth and great memory depth. The Siglent SDS1202X-E is a solid choice for higher bandwidth at a reasonable price.\n"
   ]
  },
  {
   "cell_type": "markdown",
   "id": "8caa97f8-5a56-474a-a45b-650fc1120534",
   "metadata": {},
   "source": [
    "## **3. Specialized Tools**\n",
    "\n",
    "| **Tool**                 | **Purpose**                                  | **Recommendation**                           |\n",
    "|--------------------------|----------------------------------------------|----------------------------------------------|\n",
    "| **Soldering Station**     | For soldering electronic components.         | **Hakko FX888D** or **Weller WES51** |\n",
    "| **Desoldering Pump**      | Removes solder from circuit boards.          | **Engineer SS-02 Solder Sucker** |\n",
    "| **Heat Gun**              | Shrinks heat shrink tubing, removes paint, etc. | **Wagner Heat Gun** |\n",
    "| **Hot Air Rework Station** | For soldering and desoldering surface-mount components. | **Quick 861DW** |\n",
    "| **PCB Holder**            | Holds PCBs securely while soldering.         | **Kaisi Adjustable PCB Holder** |\n",
    "| **Precision Tweezers**    | For handling small components and wires.     | **Hakko CHP Tweezers** |\n",
    "| **Magnifying Glass with Light** | For inspecting small circuits and components. | **Brightech LightView Pro** |\n",
    "| **Component Tester**      | Tests diodes, transistors, capacitors, and other components. | **Atlas DCA Pro** |"
   ]
  },
  {
   "cell_type": "markdown",
   "id": "8fbcfc62-e1a7-49a0-9251-7e528b675dc0",
   "metadata": {},
   "source": [
    "## **4. Safety Tools**\n",
    "\n",
    "| **Tool**                 | **Purpose**                                  | **Recommendation**                           |\n",
    "|--------------------------|----------------------------------------------|----------------------------------------------|\n",
    "| **Insulated Gloves**      | Protects against electrical shocks.          | **Salisbury Electriflex Gloves** |\n",
    "| **Insulated Mats**        | Protects from electric shock during testing. | **Salisbury Switchboard Mat** |\n",
    "| **Safety Glasses**        | Protects eyes during electrical work.        | **3M Safety Glasses** |\n",
    "| **Voltage Detector (Non-Contact)** | Detects live voltage without touching wires. | **Fluke 1AC II VoltAlert** |\n",
    "| **Grounding Wrist Strap** | Prevents static discharge when working with sensitive electronics. | **StarTech.com Anti-Static Wrist Strap** |\n",
    "| **Arc Flash Protective Gear** | Protects against arc flash in high-voltage environments. | **Oberon TCG Arc Flash Kit** |"
   ]
  },
  {
   "cell_type": "markdown",
   "id": "2a43a2e8-75b2-4e85-bcb9-ca678b8259b9",
   "metadata": {},
   "source": [
    "## **5. Tools for Design and Analysis**\n",
    "\n",
    "| **Tool**                 | **Purpose**                                  | **Recommendation**                           |\n",
    "|--------------------------|----------------------------------------------|----------------------------------------------|\n",
    "| **Computer-Aided Design (CAD) Software** | For designing circuits and PCBs. | **AutoCAD Electrical**, **Altium Designer**, **KiCad** |\n",
    "| **Circuit Simulation Software** | Simulates electronic circuits before building. | **LTSpice**, **Proteus**, **Multisim** |\n",
    "| **PCB Design Software**  | For designing printed circuit boards (PCBs).  | **Eagle**, **KiCad**, **Altium** |\n",
    "| **Mathematics Software** | For engineering calculations and analysis.    | **MATLAB**, **Wolfram Mathematica** |\n",
    "| **Project Management Software** | To track and manage engineering projects. | **Microsoft Project**, **Trello**, **Asana** |"
   ]
  },
  {
   "cell_type": "markdown",
   "id": "2515cc3b-4be1-49d5-8ada-be2dfe4f92dd",
   "metadata": {},
   "source": [
    "## **6. Construction and Installation Tools**\n",
    "\n",
    "| **Tool**                 | **Purpose**                                  | **Recommendation**                           |\n",
    "|--------------------------|----------------------------------------------|----------------------------------------------|\n",
    "| **Drill (Cordless)**      | For installing electrical systems and drilling holes. | **DeWalt 20V MAX Cordless Drill** |\n",
    "| **Drill Bits (For Metal)**| Used with the drill for cutting through metal surfaces. | **Bosch Titanium Drill Bit Set** |\n",
    "| **Measuring Tape**        | Measures distances for installations and layouts. | **Stanley PowerLock Measuring Tape** |\n",
    "| **Level**                 | Ensures equipment and installations are properly aligned. | **Stanley FatMax Level** |\n",
    "| **Punch Down Tool**       | For terminating wires into patch panels and jacks. | **Fluke Networks Punch Down Tool** |\n",
    "| **Conduit Bender**        | Bends metal or PVC conduit for wiring runs.  | **Gardner Bender BigBen Conduit Bender** |"
   ]
  },
  {
   "cell_type": "markdown",
   "id": "d1e50c56-123d-4f85-9151-677247217508",
   "metadata": {},
   "source": [
    "## **7. Connectivity and Network Tools**\n",
    "\n",
    "| **Tool**                 | **Purpose**                                  | **Recommendation**                           |\n",
    "|--------------------------|----------------------------------------------|----------------------------------------------|\n",
    "| **Cable Tester**          | Tests the integrity of cables (Ethernet, coaxial, etc.). | **Fluke Networks Cable Tester** |\n",
    "| **LAN Tester**            | For testing network cables and connectivity. | **Klein Tools VDV501-825** |\n",
    "| **Crimping Tool for RJ45**| Crimps RJ45 connectors onto network cables.  | **Klein Tools VDV226-110** |\n",
    "| **Wire Tracer**           | Identifies specific wires in bundles.        | **Fluke Networks Pro3000** |"
   ]
  },
  {
   "cell_type": "markdown",
   "id": "8ef89f84-1fe6-4f6c-8db7-5dccb45a525c",
   "metadata": {},
   "source": [
    "## **8. Documentation and Labeling Tools**\n",
    "\n",
    "| **Tool**                 | **Purpose**                                  | **Recommendation**                           |\n",
    "|--------------------------|----------------------------------------------|----------------------------------------------|\n",
    "| **Label Maker**           | Labels wires, cables, and electrical components. | **Brother P-touch PT-D600** |\n",
    "| **Notebook or Tablet**    | For keeping track of measurements, drawings, and notes. | **Moleskine Engineering Notebook** or **iPad** |\n",
    "| **Cable Tags/Markers**    | Labels and organizes wires for easy identification. | **Panduit Cable Markers** |"
   ]
  },
  {
   "cell_type": "markdown",
   "id": "2de76d77-a271-4be4-93d3-a4aa1e4a7bcb",
   "metadata": {},
   "source": [
    "## **9. Essential Workshop Items**\n",
    "\n",
    "| **Tool**                 | **Purpose**                                  | **Recommendation**                           |\n",
    "|--------------------------|----------------------------------------------|----------------------------------------------|\n",
    "| **Workbench**             | Provides a sturdy surface for electrical work. | **Seville Classics Workbench** |\n",
    "| **ESD Mat**               | Anti-static surface for working with sensitive electronics. | **StarTech.com Anti-Static Mat** |\n",
    "| **Toolbox or Tool Belt**  | For organizing and carrying essential tools. | **DEWALT ToughSystem Tool Box** |\n",
    "| **Headlamp or Work Light**| Illuminates work areas, especially in low-light conditions. | **Black Diamond Spot Headlamp** |"
   ]
  },
  {
   "cell_type": "markdown",
   "id": "4921f20d-d5db-466a-adc9-f9dd73eab777",
   "metadata": {},
   "source": [
    "## **10. Reference Materials**\n",
    "\n",
    "| **Resource**             | **Purpose**                                  | **Recommendation**                           |\n",
    "|--------------------------|----------------------------------------------|----------------------------------------------|\n",
    "| **Electrical Code Books** | Reference for local electrical codes and standards. | **Australian Electrical Standards** |\n",
    "| **Engineering Textbooks** | For reference on circuit theory, design, and systems. | **The Art of Electronics** by Horowitz and Hill |\n",
    "| **Online Communities**    | Forums for troubleshooting and collaboration. | **StackExchange (Electrical Engineering)**, **Reddit r/ElectricalEngineering** |"
   ]
  },
  {
   "cell_type": "code",
   "execution_count": null,
   "id": "c6795860-330d-43bb-913a-2daa2942716e",
   "metadata": {},
   "outputs": [],
   "source": []
  }
 ],
 "metadata": {
  "kernelspec": {
   "display_name": "python3",
   "language": "python",
   "name": "python3"
  }
 },
 "nbformat": 4,
 "nbformat_minor": 5
}
