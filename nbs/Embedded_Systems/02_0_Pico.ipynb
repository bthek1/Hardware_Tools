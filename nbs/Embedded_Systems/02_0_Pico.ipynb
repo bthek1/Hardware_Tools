{
 "cells": [
  {
   "cell_type": "markdown",
   "id": "45efd827-faf3-4139-92d9-2bc04c4c8ee9",
   "metadata": {},
   "source": [
    "# Pico\n",
    "\n",
    "> Raspberry Pi Pico\n",
    "\n",
    "- skip_showdoc: true\n",
    "- skip_exec: true"
   ]
  },
  {
   "cell_type": "markdown",
   "id": "bde0c119-f270-40a9-97b1-1bf2b4f2c770",
   "metadata": {},
   "source": [
    "## Pinout"
   ]
  },
  {
   "cell_type": "markdown",
   "id": "71a77360-355c-42c5-8492-54c5518bd191",
   "metadata": {},
   "source": [
    "![](rpi_pico_pinout.jpg)"
   ]
  },
  {
   "cell_type": "markdown",
   "id": "7920cc41-5684-4562-9c29-201db34e0c90",
   "metadata": {},
   "source": [
    "### 1. **Setting Up MicroPython on the Raspberry Pi Pico**\n",
    "   - **Download MicroPython UF2**: Get the UF2 file from the [official MicroPython site](https://micropython.org/download/rp2-pico/).\n",
    "   - **Flash the Pico**:\n",
    "     - Hold down the **BOOTSEL** button on the Pico and connect it to your computer via USB.\n",
    "     - Release the button once it appears as a storage device.\n",
    "     - Drag the MicroPython UF2 file to the Pico drive. It will reboot with MicroPython installed."
   ]
  },
  {
   "cell_type": "markdown",
   "id": "ed1a0bdf-bb3a-419d-bec3-1f132a2e6273",
   "metadata": {},
   "source": [
    "### 2. **Using Thonny IDE for MicroPython**\n",
    "   - **Install Thonny**: It’s a lightweight IDE for Python and MicroPython.\n",
    "   - **Configure Thonny**:\n",
    "     - Open Thonny and go to **Tools > Options > Interpreter**.\n",
    "     - Select **MicroPython (Raspberry Pi Pico)** as the interpreter and choose the correct USB port.\n",
    "   - You can now write code in Thonny and run it directly on the Pico."
   ]
  },
  {
   "cell_type": "markdown",
   "id": "7881bdca-493a-4031-a812-7fa6e6f4760d",
   "metadata": {},
   "source": [
    "### 3. **Basics of the `machine` Module in MicroPython**\n",
    "   - The `machine` module provides access to the hardware components of the Pico, such as GPIO, PWM, ADC, I2C, and SPI."
   ]
  },
  {
   "cell_type": "markdown",
   "id": "78b29c4f-3f4b-4db6-baff-484024ed48af",
   "metadata": {},
   "source": [
    "### 4. **GPIO Basics**\n",
    "\n",
    "#### LED Blinking Example\n",
    "To control an LED connected to GPIO pin 15:\n",
    "\n",
    "```python\n",
    "from machine import Pin\n",
    "from time import sleep\n",
    "\n",
    "# Configure pin 15 as an output\n",
    "led = Pin(15, Pin.OUT)\n",
    "\n",
    "# Blink the LED\n",
    "while True:\n",
    "    led.toggle()  # Toggle the LED state\n",
    "    sleep(1)      # Wait 1 second\n",
    "```\n",
    "\n",
    "#### Button Input Example\n",
    "To read a button state connected to GPIO pin 14 with a pull-up resistor:\n",
    "\n",
    "```python\n",
    "from machine import Pin\n",
    "from time import sleep\n",
    "\n",
    "button = Pin(14, Pin.IN, Pin.PULL_UP)  # Button on pin 14, using internal pull-up\n",
    "\n",
    "while True:\n",
    "    if button.value() == 0:  # Button pressed (active low)\n",
    "        print(\"Button Pressed!\")\n",
    "    sleep(0.1)\n",
    "```"
   ]
  },
  {
   "cell_type": "markdown",
   "id": "61467e74-6ac4-487f-8fe6-dbf5f6c12554",
   "metadata": {},
   "source": [
    "### 5. **Using PWM for LED Brightness Control**\n",
    "\n",
    "To control LED brightness with PWM on GPIO pin 15:\n",
    "\n",
    "```python\n",
    "from machine import Pin, PWM\n",
    "from time import sleep\n",
    "\n",
    "led = PWM(Pin(15))  # Initialize PWM on pin 15\n",
    "led.freq(1000)      # Set frequency to 1000 Hz\n",
    "\n",
    "# Increase and decrease brightness\n",
    "while True:\n",
    "    for duty in range(0, 65536, 512):  # Gradually increase brightness\n",
    "        led.duty_u16(duty)            # Set duty cycle\n",
    "        sleep(0.01)\n",
    "    for duty in range(65535, 0, -512):  # Gradually decrease brightness\n",
    "        led.duty_u16(duty)\n",
    "        sleep(0.01)\n",
    "```"
   ]
  },
  {
   "cell_type": "markdown",
   "id": "ed4ad945-1cfb-4c10-87fc-f93871027c2a",
   "metadata": {},
   "source": [
    "### 6. **Analog Input with ADC**\n",
    "The Pico has three analog input pins: ADC0 (GP26), ADC1 (GP27), and ADC2 (GP28).\n",
    "\n",
    "#### Read Analog Input Example\n",
    "To read data from a potentiometer connected to ADC0 (pin GP26):\n",
    "\n",
    "```python\n",
    "from machine import ADC\n",
    "from time import sleep\n",
    "\n",
    "pot = ADC(26)  # Connect potentiometer to GP26\n",
    "\n",
    "while True:\n",
    "    value = pot.read_u16()          # Read 16-bit analog value\n",
    "    voltage = value * (3.3 / 65535) # Convert to voltage (3.3V reference)\n",
    "    print(\"ADC Value:\", value, \"Voltage:\", voltage)\n",
    "    sleep(1)\n",
    "```"
   ]
  },
  {
   "cell_type": "markdown",
   "id": "4af8deb5-c654-4e15-a639-74386a08db6f",
   "metadata": {},
   "source": [
    "### 7. **I2C Communication**\n",
    "The Raspberry Pi Pico supports I2C, allowing communication with various devices like displays and sensors.\n",
    "\n",
    "#### I2C Setup and Scanning for Devices\n",
    "To scan for I2C devices connected to I2C0 (default pins SDA: GP4, SCL: GP5):\n",
    "\n",
    "```python\n",
    "from machine import Pin, I2C\n",
    "\n",
    "i2c = I2C(0, scl=Pin(5), sda=Pin(4), freq=400000)  # Set up I2C on GP4, GP5\n",
    "devices = i2c.scan()  # Scan for connected I2C devices\n",
    "print(\"I2C devices found:\", devices)\n",
    "```"
   ]
  },
  {
   "cell_type": "markdown",
   "id": "6c2f3056-d9ee-4449-bbbb-f9a6dd6c7c7b",
   "metadata": {},
   "source": [
    "### 8. **SPI Communication**\n",
    "SPI is commonly used to communicate with SD cards, sensors, and displays.\n",
    "\n",
    "#### Basic SPI Setup\n",
    "To set up an SPI connection on SPI0 (SCK: GP2, MOSI: GP3, MISO: GP4):\n",
    "\n",
    "```python\n",
    "from machine import Pin, SPI\n",
    "\n",
    "spi = SPI(0, baudrate=1000000, polarity=0, phase=0, sck=Pin(2), mosi=Pin(3), miso=Pin(4))\n",
    "\n",
    "# To read and write data, use spi.read() and spi.write() functions.\n",
    "```"
   ]
  },
  {
   "cell_type": "markdown",
   "id": "0ac1666d-68cc-4103-bfbf-36a61ce03dc9",
   "metadata": {},
   "source": [
    "### 9. **Using the Built-in Timer**\n",
    "Timers are useful for scheduling periodic tasks.\n",
    "\n",
    "```python\n",
    "from machine import Timer\n",
    "\n",
    "def blink(timer):\n",
    "    led.toggle()  # Toggle the LED every second\n",
    "\n",
    "led = Pin(15, Pin.OUT)\n",
    "timer = Timer()\n",
    "timer.init(freq=1, mode=Timer.PERIODIC, callback=blink)  # Call blink() every second\n",
    "```"
   ]
  },
  {
   "cell_type": "markdown",
   "id": "bd37e3a5-f14d-4ca2-b380-42cfaa69a293",
   "metadata": {},
   "source": [
    "### 10. **UART Communication**\n",
    "The Pico has two UART peripherals, allowing serial communication with other devices.\n",
    "\n",
    "#### UART Setup and Communication\n",
    "Set up UART0 (TX: GP0, RX: GP1):\n",
    "\n",
    "```python\n",
    "from machine import UART\n",
    "\n",
    "uart = UART(0, baudrate=9600, tx=Pin(0), rx=Pin(1))\n",
    "\n",
    "# Write data\n",
    "uart.write(\"Hello from Pico!\")\n",
    "\n",
    "# Read data\n",
    "if uart.any():  # Check if data is available\n",
    "    data = uart.read()\n",
    "    print(\"Received:\", data)\n",
    "```"
   ]
  },
  {
   "cell_type": "markdown",
   "id": "782b64ca-75d8-4454-b8c2-f63578ad1cd9",
   "metadata": {},
   "source": [
    "### 11. **A Full Example: Temperature and LED Control with ADC and PWM**\n",
    "\n",
    "This example reads the temperature using an analog temperature sensor and dims an LED based on the temperature reading.\n",
    "\n",
    "```python\n",
    "from machine import Pin, PWM, ADC\n",
    "from time import sleep\n",
    "\n",
    "led = PWM(Pin(15))  # LED connected to GP15\n",
    "led.freq(1000)\n",
    "temp_sensor = ADC(4)  # Internal temperature sensor (connected to ADC4)\n",
    "\n",
    "while True:\n",
    "    reading = temp_sensor.read_u16()      # Read temperature sensor value\n",
    "    temperature = 27 - (reading - 0.706) / 0.001721  # Convert to Celsius\n",
    "\n",
    "    # Map temperature to LED brightness (for example, scale 0-50 C to 0-65535 PWM duty)\n",
    "    brightness = int(min(temperature, 50) / 50 * 65535)\n",
    "    led.duty_u16(brightness)\n",
    "\n",
    "    print(\"Temperature:\", temperature, \"°C\", \"LED Brightness:\", brightness)\n",
    "    sleep(1)\n",
    "```"
   ]
  },
  {
   "cell_type": "markdown",
   "id": "66b3fa00-27d4-440d-b7ea-0443ca12a717",
   "metadata": {},
   "source": [
    "### 12. **Saving and Running Scripts on Boot**\n",
    "To automatically run a script on boot, save it as `main.py` on the Pico’s filesystem:\n",
    "\n",
    "1. Write the script in Thonny.\n",
    "2. Go to **File > Save as** and save it as `main.py` on the MicroPython device.\n",
    "3. When the Pico is powered up, it will automatically execute `main.py`.\n",
    "\n",
    "### Additional Tips\n",
    "- **Error Handling**: Use `try` and `except` blocks to catch errors and prevent crashes.\n",
    "- **GPIO Cleanup**: Use `.deinit()` to reset pins when they are no longer needed.\n",
    "\n",
    "This provides a solid foundation for working with the Raspberry Pi Pico and MicroPython, enabling you to create anything from simple GPIO controls to complex sensor interfaces and communication with other devices."
   ]
  }
 ],
 "metadata": {
  "kernelspec": {
   "display_name": "python3",
   "language": "python",
   "name": "python3"
  }
 },
 "nbformat": 4,
 "nbformat_minor": 5
}
