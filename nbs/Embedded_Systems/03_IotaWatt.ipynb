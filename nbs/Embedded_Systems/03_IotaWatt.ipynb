{
 "cells": [
  {
   "cell_type": "markdown",
   "id": "b648eac4-9591-4e94-a3aa-d73ba0c83b0b",
   "metadata": {},
   "source": [
    "# IotaWatt\n",
    "\n",
    "> IotaWatt\n",
    "\n",
    "- skip_showdoc: true\n",
    "- skip_exec: true"
   ]
  },
  {
   "cell_type": "markdown",
   "id": "59b1be98-656f-42de-b5af-2c61321c5db2",
   "metadata": {},
   "source": [
    "## Step 1\n",
    "- gcc + vscode hello world\n",
    "- influx server (endpoint v1)\n",
    "- get ioitawat code influxUploader.cpp in repo\n",
    "- adapt to run locally at influx"
   ]
  },
  {
   "cell_type": "markdown",
   "id": "0012a4e4-96a0-4423-81c1-6ef00c1b85e5",
   "metadata": {},
   "source": [
    "## Step 2\n",
    "- Install postgresql and timescale (docker ok)\n",
    "- Get phisaver repo\n",
    "- Run phitimescale:\n",
    "- [TimeScaleDB](https://brettbeeson.com.au/timescaledb/)\n",
    "- [PostgreSQL Tricks](https://brettbeeson.com.au/postgres-tricks/)\n",
    "- optionally  pgAdmin4 desktop (or vscode probs better)"
   ]
  },
  {
   "cell_type": "markdown",
   "id": "4396cfff-b24a-454d-8db4-cdbbd9bcb8be",
   "metadata": {},
   "source": [
    "## Step 2.1: write SQL to insert data\n",
    "- Step 2+\n",
    "- ! write the code sqlUploader.cpp ! against psql\n",
    "- POST request (as influxUploader.cpp) in SQL syntax (see insert_reading in PhiTimeScale.py)\n",
    "- test, etc"
   ]
  },
  {
   "cell_type": "code",
   "execution_count": null,
   "id": "d3d918c2-8870-4640-99cf-f8b246d16a95",
   "metadata": {},
   "outputs": [],
   "source": []
  }
 ],
 "metadata": {
  "kernelspec": {
   "display_name": "python3",
   "language": "python",
   "name": "python3"
  }
 },
 "nbformat": 4,
 "nbformat_minor": 5
}
