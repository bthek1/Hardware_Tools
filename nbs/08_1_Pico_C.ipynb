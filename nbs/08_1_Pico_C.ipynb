{
 "cells": [
  {
   "cell_type": "markdown",
   "id": "ee9f62e9-b279-491b-8630-51178a12f624",
   "metadata": {},
   "source": [
    "# Pico with C/C++\n",
    "\n",
    "> Pico with C/C++\n",
    "\n",
    "- skip_showdoc: true\n",
    "- skip_exec: true"
   ]
  },
  {
   "cell_type": "markdown",
   "id": "061db07d-3ee5-42d5-a38f-9af46361b226",
   "metadata": {},
   "source": [
    "## 🧰 1. Prerequisites\n",
    "\n",
    "| Tool            | Purpose                                            |\n",
    "| --------------- | -------------------------------------------------- |\n",
    "| VS Code         | Editor                                             |\n",
    "| CMake + Ninja   | Build system                                       |\n",
    "| `pico-sdk`      | Raspberry Pi official C/C++ SDK                    |\n",
    "| `arm-none-eabi` | GCC toolchain for ARM Cortex-M0+                   |\n",
    "| `OpenOCD`       | Debugging (optional for SWD)                       |\n",
    "| UF2 uploader    | Flashing firmware via USB (drag-and-drop or tools) |\n",
    "\n",
    "---"
   ]
  },
  {
   "cell_type": "markdown",
   "id": "42207ae9-67ad-411b-afd3-d9aca68a8272",
   "metadata": {},
   "source": [
    "## 🧭 2. Pico SDK Workflow Overview\n",
    "\n",
    "```\n",
    "[ C Code ] → [ CMake ] → [ Ninja ] → [ ELF/BIN/UF2 ] → [ Raspberry Pi Pico ]\n",
    "```\n",
    "\n",
    "---"
   ]
  },
  {
   "cell_type": "markdown",
   "id": "bfb93508-66fc-4d9f-84d1-5cb6b0e2acb6",
   "metadata": {},
   "source": [
    "## 🖥️ 3. Install Toolchain on Linux (Ubuntu)\n",
    "\n",
    "```bash\n",
    "sudo apt update\n",
    "sudo apt install cmake gcc-arm-none-eabi build-essential ninja-build libnewlib-arm-none-eabi git\n",
    "```\n",
    "\n",
    "On Windows/macOS: use [Raspberry Pi Pico official getting started guide](https://datasheets.raspberrypi.com/pico/getting-started-with-pico.pdf)\n",
    "\n",
    "---"
   ]
  },
  {
   "cell_type": "markdown",
   "id": "c22c1568-847d-430a-bc0b-13ba0eca87fd",
   "metadata": {},
   "source": [
    "## 📂 4. Project Structure\n",
    "\n",
    "```bash\n",
    "pico-project/\n",
    "├── CMakeLists.txt          # Top-level\n",
    "├── blink/\n",
    "│   ├── CMakeLists.txt\n",
    "│   └── blink.c\n",
    "└── pico-sdk/               # Submodule or symlink to SDK\n",
    "```\n",
    "\n",
    "---"
   ]
  },
  {
   "cell_type": "markdown",
   "id": "c1190f9c-e4da-49aa-b0b6-07624d6ef646",
   "metadata": {},
   "source": [
    "## 📄 5. `blink.c` Example\n",
    "\n",
    "```c\n",
    "#include \"pico/stdlib.h\"\n",
    "\n",
    "int main() {\n",
    "    const uint LED_PIN = 25;\n",
    "    gpio_init(LED_PIN);\n",
    "    gpio_set_dir(LED_PIN, GPIO_OUT);\n",
    "\n",
    "    while (true) {\n",
    "        gpio_put(LED_PIN, 1);\n",
    "        sleep_ms(500);\n",
    "        gpio_put(LED_PIN, 0);\n",
    "        sleep_ms(500);\n",
    "    }\n",
    "}\n",
    "```\n",
    "\n",
    "---"
   ]
  },
  {
   "cell_type": "markdown",
   "id": "405de656-044a-48a2-8153-ae48edf10ac7",
   "metadata": {},
   "source": [
    "## ⚙️ 6. `blink/CMakeLists.txt`\n",
    "\n",
    "```cmake\n",
    "add_executable(blink\n",
    "    blink.c\n",
    ")\n",
    "\n",
    "target_link_libraries(blink pico_stdlib)\n",
    "\n",
    "pico_add_extra_outputs(blink)\n",
    "```\n",
    "\n",
    "---"
   ]
  },
  {
   "cell_type": "markdown",
   "id": "0d8cf33d-4298-4e34-a880-1999021dc503",
   "metadata": {},
   "source": [
    "## 🧱 7. Top-level `CMakeLists.txt`\n",
    "\n",
    "```cmake\n",
    "cmake_minimum_required(VERSION 3.13)\n",
    "include(pico-sdk/pico_sdk_init.cmake)\n",
    "\n",
    "project(pico_project C CXX ASM)\n",
    "pico_sdk_init()\n",
    "\n",
    "add_subdirectory(blink)\n",
    "```\n",
    "\n",
    "---"
   ]
  },
  {
   "cell_type": "markdown",
   "id": "d78755fc-85c4-45ce-8b97-45489be46974",
   "metadata": {},
   "source": [
    "## 🔄 8. Building the Project\n",
    "\n",
    "```bash\n",
    "# First-time setup\n",
    "git clone -b master https://github.com/raspberrypi/pico-sdk.git\n",
    "cd pico-sdk\n",
    "git submodule update --init\n",
    "\n",
    "# Back to project\n",
    "cd ..\n",
    "mkdir build && cd build\n",
    "cmake .. -DPICO_SDK_PATH=../pico-sdk -G Ninja\n",
    "ninja\n",
    "```\n",
    "\n",
    "You should see:\n",
    "\n",
    "```\n",
    "[100%] Built target blink\n",
    "```\n",
    "\n",
    "---"
   ]
  },
  {
   "cell_type": "markdown",
   "id": "a83190d5-8a06-4e85-a11e-dbd14255e1dc",
   "metadata": {},
   "source": [
    "## 🚀 9. Flash to Pico (UF2)\n",
    "\n",
    "* Hold **BOOTSEL**, plug in Pico → it shows up as a USB drive\n",
    "* Copy `blink.uf2` from `build/` to that drive\n",
    "\n",
    "```bash\n",
    "cp blink.uf2 /media/YOUR_USER/RPI-RP2/\n",
    "```\n",
    "\n",
    "Or use `picotool`:\n",
    "\n",
    "```bash\n",
    "sudo apt install picotool\n",
    "picotool load blink.uf2 -f\n",
    "```\n",
    "\n",
    "---"
   ]
  },
  {
   "cell_type": "markdown",
   "id": "c8fcc1dc-97e0-4dc0-a669-47fca6954912",
   "metadata": {},
   "source": [
    "## 🛠 10. Set Up VS Code\n",
    "\n",
    "### Extensions to install:\n",
    "\n",
    "* **C/C++** (by Microsoft)\n",
    "* **CMake Tools**\n",
    "* **Cortex-Debug** *(if using SWD debugging)*\n",
    "* **CMake Tools Helper** (optional)\n",
    "* **CodeLLDB** (optional for debugging with `picoprobe`)\n",
    "\n",
    "### `.vscode/settings.json`\n",
    "\n",
    "```json\n",
    "{\n",
    "  \"cmake.generator\": \"Ninja\",\n",
    "  \"cmake.configureSettings\": {\n",
    "    \"PICO_SDK_PATH\": \"${workspaceFolder}/pico-sdk\"\n",
    "  },\n",
    "  \"C_Cpp.default.configurationProvider\": \"ms-vscode.cmake-tools\"\n",
    "}\n",
    "```\n",
    "\n",
    "### `.vscode/launch.json` *(for debugging via SWD)*\n",
    "\n",
    "```json\n",
    "{\n",
    "  \"version\": \"0.2.0\",\n",
    "  \"configurations\": [\n",
    "    {\n",
    "      \"name\": \"Cortex Debug\",\n",
    "      \"type\": \"cortex-debug\",\n",
    "      \"request\": \"launch\",\n",
    "      \"servertype\": \"openocd\",\n",
    "      \"executable\": \"build/blink.elf\",\n",
    "      \"cwd\": \"${workspaceRoot}\",\n",
    "      \"device\": \"RP2040\",\n",
    "      \"configFiles\": [\n",
    "        \"interface/picoprobe.cfg\",\n",
    "        \"target/rp2040.cfg\"\n",
    "      ]\n",
    "    }\n",
    "  ]\n",
    "}\n",
    "```\n",
    "\n",
    "---"
   ]
  },
  {
   "cell_type": "markdown",
   "id": "49b17ca1-652c-4a6a-82b2-abb012dbc799",
   "metadata": {},
   "source": [
    "## 🧪 11. Testing with Serial Output\n",
    "\n",
    "Use USB UART (CDC) via USB connection.\n",
    "\n",
    "```c\n",
    "stdio_init_all();  // Enables printf over USB\n",
    "\n",
    "printf(\"Hello from Pico!\\n\");\n",
    "```\n",
    "\n",
    "Use:\n",
    "\n",
    "```bash\n",
    "screen /dev/ttyACM0 115200\n",
    "```\n",
    "\n",
    "or\n",
    "\n",
    "```bash\n",
    "picocom -b 115200 /dev/ttyACM0\n",
    "```\n",
    "\n",
    "---"
   ]
  },
  {
   "cell_type": "markdown",
   "id": "b2beffd4-f76d-458a-9357-743fd0d28acf",
   "metadata": {},
   "source": [
    "## 🧠 12. Tips & Best Practices\n",
    "\n",
    "| Tip                                | Description                                |\n",
    "| ---------------------------------- | ------------------------------------------ |\n",
    "| Use `pico_add_extra_outputs()`     | Builds `.uf2`, `.elf`, `.bin` for flashing |\n",
    "| Don't forget `pico_sdk_init()`     | Required in top-level `CMakeLists.txt`     |\n",
    "| Use Git submodule for SDK          | Keeps SDK in sync with your project        |\n",
    "| Debug with SWD or USB CDC logging  | Debug via UART or SWD using `picoprobe`    |\n",
    "| Use `build/` for all CMake outputs | Keep source tree clean                     |\n",
    "\n",
    "---"
   ]
  },
  {
   "cell_type": "markdown",
   "id": "693afd13-e399-44ff-be6e-7b7c5e7aa71c",
   "metadata": {},
   "source": [
    "## 📚 Further Reading\n",
    "\n",
    "* [Raspberry Pi Pico SDK Docs](https://raspberrypi.github.io/pico-sdk-doxygen/)\n",
    "* [Getting Started with Raspberry Pi Pico (PDF)](https://datasheets.raspberrypi.com/pico/getting-started-with-pico.pdf)\n",
    "* [pico-examples GitHub](https://github.com/raspberrypi/pico-examples)\n",
    "\n",
    "---"
   ]
  },
  {
   "cell_type": "markdown",
   "id": "993036de-5259-4332-8ee5-49a48f834c31",
   "metadata": {},
   "source": [
    "## ✅ Summary\n",
    "\n",
    "| Task                   | Command / Tool                     |\n",
    "| ---------------------- | ---------------------------------- |\n",
    "| Build                  | `cmake .. && ninja`                |\n",
    "| Flash (USB)            | Drag `.uf2` to Pico drive          |\n",
    "| Debug (optional)       | `picoprobe` + OpenOCD              |\n",
    "| Serial Print Debugging | `stdio_init_all()`, then `picocom` |\n",
    "\n"
   ]
  },
  {
   "cell_type": "code",
   "execution_count": null,
   "id": "e9edd4eb-a6cb-405d-b455-27b6480d7032",
   "metadata": {},
   "outputs": [],
   "source": []
  }
 ],
 "metadata": {
  "kernelspec": {
   "display_name": "python3",
   "language": "python",
   "name": "python3"
  }
 },
 "nbformat": 4,
 "nbformat_minor": 5
}
