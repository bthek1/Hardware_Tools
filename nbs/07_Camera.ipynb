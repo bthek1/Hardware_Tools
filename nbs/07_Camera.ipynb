{
 "cells": [
  {
   "cell_type": "markdown",
   "id": "151aa23d-c6cc-4560-88ba-1921fe38a5d4",
   "metadata": {},
   "source": [
    "# Camera \n",
    "\n",
    "> Camera\n",
    "\n",
    "- skip_showdoc: true\n",
    "- skip_exec: true"
   ]
  },
  {
   "cell_type": "markdown",
   "id": "ccb18b01-575e-4c75-8eb7-a8eb0856445c",
   "metadata": {},
   "source": [
    "- Sony ZV-E10 - 1099\n",
    "- Sony ZV-E10 II - 1699"
   ]
  },
  {
   "cell_type": "markdown",
   "id": "317d739f-bc6f-43b4-b6cb-cb8165d84348",
   "metadata": {},
   "source": []
  }
 ],
 "metadata": {
  "kernelspec": {
   "display_name": "python3",
   "language": "python",
   "name": "python3"
  }
 },
 "nbformat": 4,
 "nbformat_minor": 5
}
