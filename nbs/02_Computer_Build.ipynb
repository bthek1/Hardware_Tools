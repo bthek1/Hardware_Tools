{
 "cells": [
  {
   "cell_type": "markdown",
   "id": "6c5cc7af-5537-4c54-8cf3-72f5904c53b8",
   "metadata": {},
   "source": [
    "# Computer Build\n",
    "\n",
    "> Computer Build Parts\n",
    "\n",
    "- skip_showdoc: true\n",
    "- skip_exec: true"
   ]
  },
  {
   "cell_type": "markdown",
   "id": "e8a2ad3c-907d-459a-8380-c8cf2a17bf99",
   "metadata": {},
   "source": [
    "## Parts"
   ]
  },
  {
   "cell_type": "markdown",
   "id": "0e917fc2-abc1-4d8f-80c2-78c1854d0504",
   "metadata": {},
   "source": [
    "|Part|Spec|Amount|Power|\n",
    "|---|---|---|---|\n",
    "[x] Motherboard|ASUS Prime X670-P Wifi CSM AM5 ATX Motherboard | \\$339.36 | 30-50W |\n",
    "[x] CPU | AMD Ryzen 9 7900X 12 Core AM5 5.6GHz CPU Processor | \\$599 | 170W\n",
    "[ ] RAM | Kingston 64GB (2x32GB) KF560C36BBEAK2-64 Fury Beast RGB 6000MHz DDR5 RAM | \\$309 | 10W\n",
    "[ ] Memory | Crucial T705 1TB CT1000T705SSD5 PCIe 5.0 2280 M.2 NVMe SSD - with Heatsink | \\$289 | 11.55W\n",
    "[ ] Memory | Seagate Barracuda 1TB (2016) | - \n",
    "[ ] Cooler | Thermalright Phantom Spirit 120 SE ARGB CPU Cooler - >166mm | \\$59\n",
    "[x] Case | Thermaltake View 200 TG ARGB Mid Tower ATX Case | \\$78.78\n",
    "[x] GPU | RTX3090 | 350W\n",
    "[ ] PSU | Thermaltake Toughpower GF A3 Snow 1050W Power Supply | \\$219\n",
    "[ ] Fans | 3x 120mm | \\$35"
   ]
  },
  {
   "cell_type": "markdown",
   "id": "f479457c-fe4c-4f7e-b0c4-8553bb115168",
   "metadata": {},
   "source": [
    "\n"
   ]
  },
  {
   "cell_type": "markdown",
   "id": "0892fa04-e922-4045-98a2-b52421918c33",
   "metadata": {},
   "source": [
    "## **1. Central Processing Unit (CPU)**\n",
    "> The CPU is vital for data preprocessing, running ML algorithms, and managing overall system operations. For ML tasks, a CPU with high core count and strong multi-threading capabilities is essential."
   ]
  },
  {
   "cell_type": "markdown",
   "id": "e380e270-09a6-4074-ac17-c92d835b7f84",
   "metadata": {},
   "source": [
    "| **Component** | **Recommendation** | **Key Features** | **Price Range (AUD)** |\n",
    "|---------------|--------------------|-------------------|------------------------|\n",
    "| **CPU**       | **AMD Ryzen 9 7950X** | 16 cores / 32 threads, 4.5 GHz base, 5.7 GHz boost, AM5 socket | ~1,050 |\n",
    "|               | **AMD Ryzen 9 7900X** | 12 cores / 24 threads, 4.7 GHz base, 5.6 GHz boost, AM5 socket | ~750 |\n",
    "|               | **AMD Ryzen 7 7700X** | 8 cores / 16 threads, 4.5 GHz base, 5.4 GHz boost, AM5 socket | ~525 |\n",
    "\n",
    "**_Recommendation:_**  \n",
    "The **AMD Ryzen 9 7950X** is highly recommended for ML development due to its high core and thread count, which enhances parallel processing capabilities essential for handling complex ML tasks and large datasets."
   ]
  },
  {
   "cell_type": "markdown",
   "id": "808c46b2-cb5c-4d75-bd9f-57562069937a",
   "metadata": {},
   "source": [
    "## **2. Graphics Processing Unit (GPU)**\n",
    "> GPUs are the backbone of modern ML workloads, especially for deep learning tasks. NVIDIA GPUs are typically preferred due to their CUDA cores and extensive support in ML frameworks."
   ]
  },
  {
   "cell_type": "markdown",
   "id": "fbeb2b8a-9d82-4fd7-9e5e-89b802594657",
   "metadata": {},
   "source": [
    "| **Component** | **Recommendation** | **Key Features** | **Price Range (AUD)** |\n",
    "|---------------|--------------------|-------------------|------------------------|\n",
    "| **GPU**       | **NVIDIA GeForce RTX 4090** | 24 GB GDDR6X, 16,384 CUDA cores, PCIe 4.0, excellent for large-scale ML models | ~2,400 |\n",
    "|               | **NVIDIA GeForce RTX 4080** | 16 GB GDDR6X, 9,728 CUDA cores, PCIe 4.0, great performance for ML | ~1,800 |\n",
    "|               | **NVIDIA RTX A6000** | 48 GB GDDR6, 10,752 CUDA cores, ECC memory, optimized for professional ML workloads | ~6,750 |\n",
    "|               | **NVIDIA GeForce RTX 4070 Ti** | 12 GB GDDR6X, 7,680 CUDA cores, PCIe 4.0, balanced performance and cost | ~1,200 |\n",
    "\n",
    "**_Recommendation:_**  \n",
    "For the best ML performance, the **NVIDIA GeForce RTX 4090** is ideal due to its superior CUDA core count and large VRAM, enabling efficient training of complex models. If budget constraints exist, the **RTX 4080** or **RTX 4070 Ti** offer excellent performance at a more accessible price."
   ]
  },
  {
   "cell_type": "markdown",
   "id": "629b4e0a-bb11-4a2c-b148-7e7669aef28d",
   "metadata": {},
   "source": [
    "## **3. Motherboard**\n",
    "> A compatible motherboard ensures seamless integration of all components, supports multiple GPUs, offers ample RAM slots, and provides reliable power delivery."
   ]
  },
  {
   "cell_type": "markdown",
   "id": "e1084b4f-c2be-4d3a-b02c-3229db1a966e",
   "metadata": {},
   "source": [
    "| **Component**   | **Recommendation**             | **Key Features** | **Price Range (AUD)** |\n",
    "|-----------------|--------------------------------|-------------------|------------------------|\n",
    "| **Motherboard** | **ASUS PRIME X670-P WIFI**     | AM5 socket, 1 x PCIe 4.0 x16 slots 1 x PCIe 4.0 x8, DDR5 support, WiFi 6E, robust VRMs | ~219.99 |\n",
    "|                 | **MSI MPG X670E Carbon WiFi**  | AM5 socket, Triple PCIe 5.0 x16 slots, DDR5, WiFi 6E, high-quality VRMs | ~675 |\n",
    "|                 | **Gigabyte X670E AORUS Elite** | AM5 socket, Triple PCIe 5.0 x16 slots, DDR5, advanced thermal design | ~600 |\n",
    "|                 | **ASRock X670E Taichi**        | AM5 socket, Triple PCIe 5.0 x16 slots, DDR5, premium build quality | ~900 |\n",
    "|                 | **ASUS TUF Gaming X670E-Plus** | AM5 socket, 1 x PCIe 5.0 x16 slots, 1 x PCIe 4.0 x4, DDR5, military-grade components | ~749 |\n",
    "|                 | **ASUS ProArt X670E-Creatort** | AM5 socket, 2 x PCIe 5.0 x16 slots, 1 x PCIe 4.0 x2, DDR5 | ~768\n",
    "|                 | **ASUS ROG Strix X670E Gaming**| AM5 socker, 1 x PCIe 5.0 x16 slots, 1 x PCIe 4.0 x4, DDR5 | ~639\n",
    "\n",
    "**_Recommendation:_**  \n",
    "The **ASUS PRIME X670-P WIFI** offers a balanced mix of features, including dual PCIe 5.0 x16 slots suitable for dual GPU setups, robust power delivery, and DDR5 memory support, making it an excellent choice for ML development."
   ]
  },
  {
   "cell_type": "markdown",
   "id": "4c499f4b-9786-4f22-893f-40f1120d4d3c",
   "metadata": {},
   "source": [
    "## **4. Memory (RAM)**\n",
    "> Ample and fast RAM is crucial for handling large datasets and ensuring smooth multitasking during model training and evaluation."
   ]
  },
  {
   "cell_type": "markdown",
   "id": "bbfafa75-2cfd-4fcd-a80b-ada64531b60f",
   "metadata": {},
   "source": [
    "| **Component** | **Recommendation** | **Key Features** | **Price Range (AUD)** |\n",
    "|---------------|--------------------|-------------------|------------------------|\n",
    "| **RAM**       | **G.Skill Trident Z5 RGB DDR5 64GB (2x32GB) 6000MHz** | High-speed DDR5, RGB aesthetics, low latency | ~450 |\n",
    "|               | **Corsair Vengeance DDR5 32GB (2x16GB) 6000MHz** | Reliable performance, high speed | ~225 |\n",
    "|               | **Kingston Fury Beast DDR5 128GB (4x32GB) 6000MHz** | Massive capacity for extensive datasets | ~900 |\n",
    "|               | **Crucial Ballistix DDR5 32GB (2x16GB) 5600MHz** | Budget-friendly, decent performance | ~195 |\n",
    "\n",
    "**_Recommendation:_**  \n",
    "For most ML applications, **64 GB DDR5 RAM** (e.g., **G.Skill Trident Z5 RGB DDR5 64GB**) strikes a good balance between capacity and speed. However, for very large datasets or complex models, opting for **128 GB DDR5 RAM** (e.g., **Kingston Fury Beast DDR5 128GB**) is advisable."
   ]
  },
  {
   "cell_type": "markdown",
   "id": "6046c217-a3d1-40f4-b019-1c79ccde67e9",
   "metadata": {},
   "source": [
    "## **5. Storage**\n",
    "> Fast and ample storage ensures quick data access, efficient model saving/loading, and smooth system performance."
   ]
  },
  {
   "cell_type": "markdown",
   "id": "dead1cfc-e2d5-45c2-9d7a-5e63d590b4d2",
   "metadata": {},
   "source": [
    "| **Component**         | **Recommendation**                          | **Key Features**                                             | **Price Range (AUD)** |\n",
    "|-----------------------|---------------------------------------------|--------------------------------------------------------------|---------------------|\n",
    "| **Primary Storage**   | **Samsung 980 PRO 1TB NVMe SSD**            | PCIe 4.0, high read/write speeds, reliable | ~150 |\n",
    "| **Secondary Storage** | **WD Black SN850X 2TB NVMe SSD**            | PCIe 4.0, larger capacity for datasets | ~300 |\n",
    "|                       | **Samsung 990 PRO 2TB NVMe SSD**            | Latest generation, PCIe 4.0, extremely fast | ~375 |\n",
    "|                       | **Crucial P5 Plus 4TB NVMe SSD**            | PCIe 4.0, massive storage for extensive datasets | ~675 |\n",
    "|                       | **Seagate FireCuda 530 1TB NVMe SSD**        | PCIe 4.0, excellent endurance and reliability | ~180 |\n",
    "|                       | **Corsair MP600 Pro XT 2TB NVMe SSD**        | PCIe 4.0, robust thermal management | ~330 |\n",
    "\n",
    "**_Recommendation:_**  \n",
    "A combination of a **1 TB NVMe SSD** for the operating system and frequently accessed data (e.g., **Samsung 980 PRO 1TB**) and a **2 TB NVMe SSD** for larger datasets and model storage (e.g., **WD Black SN850X 2TB**) is ideal. For maximum storage needs, consider adding a **4 TB NVMe SSD**."
   ]
  },
  {
   "cell_type": "markdown",
   "id": "f6614da0-8ad1-40f0-bd70-229d994e11d8",
   "metadata": {},
   "source": [
    "## **6. Power Supply Unit (PSU)**\n",
    "> A reliable PSU ensures stable power delivery to all components, especially when running multiple GPUs."
   ]
  },
  {
   "cell_type": "markdown",
   "id": "ad0916df-b7be-4324-9a16-3153153af36e",
   "metadata": {},
   "source": [
    "| **Component** | **Recommendation** | **Key Features** | **Price Range (AUD)** |\n",
    "|---------------|--------------------|-------------------|------------------------|\n",
    "| **PSU**       | **EVGA SuperNOVA 1200 G6 1200W** | 80+ Gold, fully modular, high wattage for dual GPUs | ~450 |\n",
    "|               | **Corsair RM1000x 1000W 80+ Gold** | Fully modular, reliable performance | ~270 |\n",
    "|               | **Seasonic Focus GX-850 850W** | 80+ Gold, fully modular | ~195 |\n",
    "|               | **Be Quiet! Straight Power 11 1000W** | 80+ Platinum, fully modular | ~300 |\n",
    "|               | **Corsair HX1200i 1200W** | 80+ Platinum, high efficiency | ~450 |\n",
    "\n",
    "**_Recommendation:_**  \n",
    "For dual GPU configurations, a **1200W PSU** like the **EVGA SuperNOVA 1200 G6** or **Corsair HX1200i** is recommended to ensure ample power headroom and stability, especially under heavy loads."
   ]
  },
  {
   "cell_type": "markdown",
   "id": "c5ac7853-8043-477c-9a54-f0b5be92f45c",
   "metadata": {},
   "source": [
    "## **7. Cooling Solutions**\n",
    "> Effective cooling is essential to maintain optimal performance and prolong the lifespan of your components, particularly the CPU and GPUs."
   ]
  },
  {
   "cell_type": "markdown",
   "id": "a9e6085c-637d-4c2e-b236-95ffab3399b9",
   "metadata": {},
   "source": [
    "| **Component** | **Recommendation** | **Key Features** | **Price Range (AUD)** |\n",
    "|---------------|--------------------|-------------------|------------------------|\n",
    "| **CPU Cooler** | **Corsair iCUE H150i Elite Capellix** | 360mm AIO, RGB lighting, high-performance cooling | ~300 |\n",
    "|               | **Noctua NH-D15 chromax.Black** | Dual tower air cooler, extremely efficient and quiet | ~150 |\n",
    "|               | **be quiet! Dark Rock Pro 4** | High-performance air cooling, near-silent operation | ~135 |\n",
    "|               | **NZXT Kraken Z73 RGB** | 360mm AIO, customizable LCD display, premium cooling | ~375 |\n",
    "|               | **Arctic Liquid Freezer II 360** | 360mm AIO, excellent cooling performance | ~225 |\n",
    "\n",
    "**_Recommendation:_**  \n",
    "For optimal CPU cooling, consider a **high-performance AIO liquid cooler** like the **Corsair iCUE H150i Elite Capellix** or a top-tier **air cooler** like the **Noctua NH-D15 chromax.Black**. These options ensure your CPU remains cool during intensive ML tasks."
   ]
  },
  {
   "cell_type": "markdown",
   "id": "9ceda58d-8a4b-4625-838e-734683a561ed",
   "metadata": {},
   "source": [
    "## **8. Computer Case (Chassis)**\n",
    "> A spacious and well-ventilated case ensures that all components, especially multiple GPUs, have adequate airflow and space."
   ]
  },
  {
   "cell_type": "markdown",
   "id": "5cc2ccc3-d436-4bbb-bd35-63ee8a958a30",
   "metadata": {},
   "source": [
    "| **Component** | **Recommendation** | **Key Features** | **Price Range (AUD)** |\n",
    "|---------------|--------------------|-------------------|------------------------|\n",
    "| **Case**      | **Fractal Design Meshify 2** | ATX, excellent airflow, spacious interior | ~225 |\n",
    "|               | **Thermaltake Core P8** | ATX, open-frame design, maximum airflow | ~300 |\n",
    "|               | **NZXT H710** | ATX, sleek design, good cable management | ~240 |\n",
    "|               | **Lian Li PC-O11 Dynamic** | ATX, stylish with excellent cooling and showcase features | ~225 |\n",
    "|               | **Phanteks Eclipse P600S** | ATX, hybrid cooling support, sound-dampening | ~300 |\n",
    "|               | **Corsair Obsidian Series 750D** | ATX, large and versatile, robust build quality | ~255 |\n",
    "\n",
    "**_Recommendation:_**  \n",
    "For dual GPU setups, the **Fractal Design Meshify 2** or **Thermaltake Core P8** are excellent choices due to their spacious interiors and superior cooling support, ensuring that multiple GPUs can operate efficiently without overheating."
   ]
  },
  {
   "cell_type": "markdown",
   "id": "4d5d270c-6b1b-4c77-a6fe-5c1854e163da",
   "metadata": {},
   "source": [
    "## **9. Operating System**\n",
    "> Choose an OS that best supports your ML tools and frameworks. **Ubuntu** is widely used in ML environments due to its compatibility and support for NVIDIA drivers and ML frameworks."
   ]
  },
  {
   "cell_type": "markdown",
   "id": "c659d514-fb7c-4f96-a060-a5478d2079bc",
   "metadata": {},
   "source": [
    "| **Component** | **Recommendation** | **Key Features** | **Price Range (AUD)** |\n",
    "|---------------|--------------------|-------------------|------------------------|\n",
    "| **Operating System** | **Ubuntu 22.04 LTS** | Free, widely supported in ML environments | 0 |\n",
    "|               | **Windows 11 Pro** | Comprehensive support for various ML tools | ~210 |\n",
    "\n",
    "**_Recommendation:_**  \n",
    "**Ubuntu 22.04 LTS** is highly recommended for ML development due to its robust support for NVIDIA drivers, compatibility with popular ML frameworks like TensorFlow and PyTorch, and extensive community support."
   ]
  },
  {
   "cell_type": "markdown",
   "id": "6d99c77f-8c59-4b78-a9ed-cdb5581e6800",
   "metadata": {},
   "source": [
    "## **10. Networking (Optional)**\n",
    "> For distributed ML workloads or high-speed data transfers, high-speed networking can be beneficial."
   ]
  },
  {
   "cell_type": "markdown",
   "id": "4e5c9693-f1c8-448b-8030-31c59ffd6727",
   "metadata": {},
   "source": [
    "| **Component** | **Recommendation** | **Key Features** | **Price Range (AUD)** |\n",
    "|---------------|--------------------|-------------------|------------------------|\n",
    "| **Network Card** | **Intel X550-T2 10GbE** | Dual 10 Gigabit Ethernet ports, PCIe 3.0 | ~450 |\n",
    "|               | **ASUS XG-C100C 10Gb Ethernet** | PCIe 3.0, reliable performance | ~225 |\n",
    "\n",
    "**_Recommendation:_**  \n",
    "If your ML workflows involve significant data transfers over the network, consider adding a **10Gb Ethernet Card** like the **Intel X550-T2** for high-speed connectivity."
   ]
  },
  {
   "cell_type": "markdown",
   "id": "964a50fe-5ec1-47de-8268-b279b3f4155e",
   "metadata": {},
   "source": [
    "## **11. Peripherals (Optional)**\n",
    "> Quality peripherals can enhance your workflow and overall user experience."
   ]
  },
  {
   "cell_type": "markdown",
   "id": "7c2937d9-e7b3-4258-8835-1f5db88d70dc",
   "metadata": {},
   "source": [
    "| **Component** | **Recommendation** | **Key Features** | **Price Range (AUD)** |\n",
    "|---------------|--------------------|-------------------|------------------------|\n",
    "| **Monitor**   | **Dell UltraSharp U2720Q** | 27-inch 4K, IPS panel, excellent color accuracy | ~900 |\n",
    "|               | **LG 27GN950-B** | 27-inch 4K, IPS, high refresh rate | ~1,200 |\n",
    "| **Keyboard**  | **Logitech MX Keys** | Ergonomic, wireless, backlit | ~150 |\n",
    "|               | **Corsair K95 RGB Platinum** | Mechanical, RGB lighting, programmable keys | ~300 |\n",
    "| **Mouse**     | **Logitech MX Master 3** | Ergonomic, wireless, multiple programmable buttons | ~150 |\n",
    "|               | **Razer DeathAdder V2** | High-precision sensor, ergonomic design | ~105 |\n",
    "| **External Storage** | **Samsung T7 Portable SSD 2TB** | Fast USB 3.2 connectivity, portable | ~375 |\n",
    "|               | **WD My Passport 4TB** | Large capacity, reliable performance | ~180 |\n",
    "| **Uninterruptible Power Supply (UPS)** | **APC Back-UPS Pro 1500VA** | Reliable backup power, surge protection | ~375 |\n",
    "|               | **CyberPower CP1500PFCLCD** | Pure sine wave, LCD display, high capacity | ~300 |\n",
    "\n",
    "**_Recommendation:_**  \n",
    "Investing in high-quality monitors like the **Dell UltraSharp U2720Q** and ergonomic peripherals like the **Logitech MX Keys** and **MX Master 3** can significantly enhance your productivity and comfort during long ML development sessions."
   ]
  },
  {
   "cell_type": "markdown",
   "id": "e1d0d84f-3e32-4ff3-a25c-7966c8e6bcec",
   "metadata": {},
   "source": [
    "## **Complete Component List for an AMD-Based ML Development PC**"
   ]
  },
  {
   "cell_type": "markdown",
   "id": "2c1a608c-26ce-430a-8b1e-096e8f1cbed9",
   "metadata": {},
   "source": [
    "| **Component**                   | **Recommendation**                                  | **Price (AUD)** |\n",
    "|---------------------------------|-----------------------------------------------------|------------------|\n",
    "| **Motherboard**                 | ASUS PRIME X670-P WIFI CSM DDR5 AM5 ATX             | 450              |\n",
    "| **CPU**                         | AMD Ryzen 9 7900X                                   | 750              |\n",
    "| **GPU**                         | NVIDIA GeForce RTX 4090                              | 2,400            |\n",
    "| **RAM**                         | G.Skill Trident Z5 RGB DDR5 64GB (2x32GB) 6000MHz     | 450              |\n",
    "| **Primary Storage**             | Samsung 980 PRO 1TB NVMe SSD                         | 150              |\n",
    "| **Secondary Storage**           | WD Black SN850X 2TB NVMe SSD                         | 300              |\n",
    "| **CPU Cooler**                  | Corsair iCUE H150i Elite Capellix (AIO Liquid Cooler)| 300              |\n",
    "| **Power Supply**                | EVGA SuperNOVA 1200 G6 1200W, 80+ Gold Fully Modular  | 450              |\n",
    "| **Case**                        | Fractal Design Meshify 2                             | 225              |"
   ]
  },
  {
   "cell_type": "code",
   "execution_count": null,
   "id": "5ea46889-9f4f-4ebd-b7e8-eca6581109c8",
   "metadata": {},
   "outputs": [
    {
     "data": {
      "text/plain": [
       "3375"
      ]
     },
     "execution_count": null,
     "metadata": {},
     "output_type": "execute_result"
    }
   ],
   "source": [
    "450 + 1050 + 2400 + 450 + 150 + 300 + 300 + 450 + 225 - 2400"
   ]
  },
  {
   "cell_type": "markdown",
   "id": "3dabbb85-01e1-4ecc-940b-0709d5934707",
   "metadata": {},
   "source": [
    "## **Additional Tips for Building an ML Development PC**"
   ]
  },
  {
   "cell_type": "markdown",
   "id": "408e2daa-0020-433f-bd79-e630d8e81307",
   "metadata": {},
   "source": [
    "1. **Ensure Compatibility**: Double-check that all components are compatible with each other, especially the motherboard, CPU, and RAM. Use tools like [PCPartPicker](https://pcpartpicker.com/) to verify compatibility and prevent issues during assembly.\n",
    "\n",
    "2. **Prioritize Cooling**: ML workloads generate significant heat, especially with dual GPUs. Invest in high-quality cooling solutions to maintain system stability and prolong component lifespan.\n",
    "\n",
    "3. **Cable Management**: A well-organized build not only looks clean but also promotes better airflow. Use modular PSUs and manage cables efficiently within the case.\n",
    "\n",
    "4. **Future-Proofing**: Select components that offer room for upgrades, such as additional RAM slots, PCIe lanes, and storage options, to accommodate growing ML demands.\n",
    "\n",
    "5. **Driver and Software Setup**: After assembling your workstation, ensure that you install the latest drivers for your GPU (NVIDIA) and set up ML frameworks like TensorFlow, PyTorch, and others with GPU support.\n",
    "\n",
    "6. **Backup Solutions**: Implement regular backup strategies to protect your datasets and models. Consider using both local (external SSDs) and cloud-based backup solutions.\n",
    "\n",
    "7. **Monitor Cooling and Performance**: Use software tools to monitor system temperatures and performance metrics to ensure that your ML tasks are running efficiently without thermal throttling."
   ]
  },
  {
   "cell_type": "markdown",
   "id": "52e710be-2fe4-4d77-9242-8ccc25799461",
   "metadata": {},
   "source": [
    "## Computer Setup "
   ]
  },
  {
   "cell_type": "markdown",
   "id": "86a1f043-67e9-4ecc-b625-8ceb9693e7c4",
   "metadata": {},
   "source": [
    "- proxmox server\n",
    "  - Ubuntu\n",
    "  - Windows\n",
    "  - NAS\n",
    "  - "
   ]
  },
  {
   "cell_type": "code",
   "execution_count": null,
   "id": "d448c442-bdb9-4e1c-bfc2-72d1c233b17a",
   "metadata": {},
   "outputs": [],
   "source": []
  }
 ],
 "metadata": {
  "kernelspec": {
   "display_name": "python3",
   "language": "python",
   "name": "python3"
  }
 },
 "nbformat": 4,
 "nbformat_minor": 5
}
