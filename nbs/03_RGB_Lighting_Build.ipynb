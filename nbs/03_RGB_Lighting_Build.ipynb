{
 "cells": [
  {
   "cell_type": "markdown",
   "id": "fa383785-0b4f-41c8-8e33-a7adcb92b35b",
   "metadata": {},
   "source": [
    "# RGB Lighting\n",
    "\n",
    "> Everything to know about Smart RGb lighting\n",
    "\n",
    "- skip_exec: true\n",
    "- skip_showdoc: true"
   ]
  },
  {
   "cell_type": "markdown",
   "id": "b629c03c-d794-41fc-bea4-d658dc081a72",
   "metadata": {},
   "source": [
    "RGB smart LED strips, like the WS2818B and other models, are popular for customizable lighting projects. They offer flexibility, addressable LEDs, and dynamic lighting effects. Here’s what you should know about the types, features, and considerations when choosing RGB smart LED strips:\n",
    "\n",
    "### 1. **Types of RGB Smart LED Strips**\n",
    "   There are various types of RGB LED strips, often distinguished by the type of LED, chipset, and control methods:\n",
    "\n",
    "   - **WS2812B/WS2813**: \n",
    "     - Each LED is individually addressable, meaning each LED can be controlled independently for color and brightness.\n",
    "     - WS2813 is a newer version, which has backup data lines for redundancy; if one LED fails, the rest will still work.\n",
    "     - 1 data line, which simplifies wiring.\n",
    "\n",
    "   - **WS2818B**:\n",
    "     - Dual-signal redundancy: If one LED fails, others in the series will continue functioning.\n",
    "     - Addressable RGB LEDs with two data lines (Data and Backup Data).\n",
    "     - Supports longer continuous runs compared to single-line strips like WS2812B due to improved data integrity.\n",
    "     - Ideal for large, complex installations or places where reliability is essential.\n",
    "\n",
    "   - **SK6812**:\n",
    "     - Similar to WS2812B but with better color accuracy.\n",
    "     - Can support RGBW (RGB + white), adding a true white LED for more precise lighting effects.\n",
    "     - Compatible with WS2812B controllers.\n",
    "\n",
    "   - **APA102 (DotStar)**:\n",
    "     - Uses a separate clock and data line, enabling faster updates and smoother animations.\n",
    "     - Better suited for high refresh-rate applications or when a faster response is needed.\n",
    "\n",
    "### 2. **Voltage**\n",
    "   - **5V**: Common in WS2812B and WS2813 strips. Requires a power supply with good regulation, as voltage drop can be an issue over long distances.\n",
    "   - **12V**: Common in WS2818B strips. Offers less voltage drop, making it better for longer runs without needing power injection.\n",
    "   - **24V**: Available in some variants. Ideal for very long strips with less voltage loss, meaning fewer power injections are required.\n",
    "\n",
    "### 3. **Addressable vs Non-addressable Strips**\n",
    "   - **Addressable (e.g., WS2818B, WS2812B)**: Each LED can be controlled independently, allowing for more complex effects like color waves, animations, and patterns.\n",
    "   - **Non-addressable (RGB)**: All LEDs show the same color and brightness at any given time.\n",
    "\n",
    "### 4. **Number of LEDs per Meter**\n",
    "   LED strips are typically available in densities like **30 LEDs/m**, **60 LEDs/m**, **144 LEDs/m**. Higher densities (more LEDs per meter):\n",
    "   - Offer brighter and smoother lighting effects.\n",
    "   - Are better for complex animations.\n",
    "   - Consume more power.\n",
    "\n",
    "### 5. **Power Consumption**\n",
    "   - Power consumption depends on the number of LEDs and the type of strip. For instance:\n",
    "     - WS2812B strips typically consume around **18W per meter** at full brightness for 60 LEDs/m.\n",
    "     - WS2818B with 60 LEDs/m might consume a similar amount, but the 12V version reduces the effects of voltage drop over longer strips.\n",
    "   - Ensure your power supply provides adequate power for the entire strip, and consider injecting power at multiple points for longer strips to prevent brightness dimming.\n",
    "\n",
    "### 6. **Control Methods**\n",
    "   - **Controllers**: Addressable LED strips need a controller that can send the appropriate signals. Popular options include:\n",
    "     - **Arduino/ESP32/Raspberry Pi**: For DIY projects.\n",
    "     - **Dedicated Controllers**: Like the SP108E or SP110E, designed specifically for addressable LED strips.\n",
    "   - **Communication Protocols**: \n",
    "     - **Wi-Fi/Bluetooth**: Many smart LED strips come with Wi-Fi or Bluetooth control, allowing you to adjust lighting through apps.\n",
    "     - **DMX**: Used in professional lighting setups, enabling synchronized control across multiple strips.\n",
    "\n",
    "### 7. **Compatibility with Software**\n",
    "   Addressable LED strips, like WS2818B and WS2812B, are compatible with various software and libraries, such as:\n",
    "   - **FastLED/Adafruit NeoPixel**: Arduino libraries for controlling addressable RGB strips.\n",
    "   - **WLED**: A highly popular, customizable firmware for controlling addressable LED strips with a web interface, mobile apps, and voice assistants like Alexa.\n",
    "\n",
    "### 8. **Waterproofing**\n",
    "   - **IP20**: No waterproofing, suitable for indoor, dry environments.\n",
    "   - **IP65**: Silicone coating, protects against dust and light splashes, good for indoor use in damp environments.\n",
    "   - **IP67/IP68**: Fully waterproof, can be submerged in water, ideal for outdoor applications.\n",
    "\n",
    "### 9. **Durability and Longevity**\n",
    "   - Ensure the strip you choose has good heat dissipation. Addressable LEDs like WS2818B can generate heat, especially at higher brightness levels, which might reduce their lifespan.\n",
    "   - Aluminum profiles or channels can be used to house the LED strips for better cooling and aesthetic purposes.\n",
    "\n",
    "### 10. **Use Cases**\n",
    "   - **Home decoration**: Accent lighting, TV backlighting, and ambiance lighting.\n",
    "   - **Commercial installations**: Advertising displays, bar lighting, and retail ambiance.\n",
    "   - **Creative projects**: Custom lighting setups, cosplay, and art installations.\n",
    "   - **Outdoor lighting**: Gardens, pathways, or building outlines (with waterproof strips).\n",
    "   - **Advanced projects**: Synchronize lighting with music, game setups, or AI-controlled smart home lighting.\n",
    "\n",
    "### Things to Keep in Mind:\n",
    "   - **Power Supply**: Ensure the power supply matches the voltage and provides enough current for your strip.\n",
    "   - **Heat Management**: Addressable strips can get hot, so consider using aluminum channels for heat dissipation.\n",
    "   - **Distance Limitation**: For longer runs, you might need to inject power at multiple points to avoid voltage drop, especially with 5V strips.\n",
    "   - **Data Line Length**: Data signal integrity can degrade over long distances. For strips like WS2818B with dual-signal redundancy, this is less of an issue.\n",
    "\n",
    "Understanding these factors will help you choose the right RGB smart LED strip for your project, ensuring you get the desired effects, performance, and longevity."
   ]
  },
  {
   "cell_type": "markdown",
   "id": "a3dc29bc-f9cd-41b1-9acd-5dcf0d00c328",
   "metadata": {},
   "source": [
    "## The ones i have"
   ]
  },
  {
   "cell_type": "markdown",
   "id": "d701ccea-05ad-442f-a60a-470583a65a98",
   "metadata": {},
   "source": []
  },
  {
   "cell_type": "markdown",
   "id": "0dc03392-28d6-487b-8d45-1631c4a7ac01",
   "metadata": {},
   "source": [
    "## Power Supply (MODEL:s-100-5)"
   ]
  },
  {
   "cell_type": "markdown",
   "id": "ec751c65-3c86-4ba9-b560-22bb7728e93d",
   "metadata": {},
   "source": [
    "- AC input: 110/220V 50/60Hz\n",
    "- DC output: 5V 20A"
   ]
  },
  {
   "cell_type": "markdown",
   "id": "07bd3cd5-284a-4333-b0c2-5e9bbd25f2d9",
   "metadata": {},
   "source": [
    "### 🔌 **Port Labels and Their Meanings (From Left to Right)**\n",
    "\n",
    "From your first image:\n",
    "\n",
    "| Terminal Label | Meaning                       | Use                                                              |\n",
    "| -------------- | ----------------------------- | ---------------------------------------------------------------- |\n",
    "| `L`            | **Live (AC input)**           | Connect to the **Live wire** of AC mains (usually brown/red)     |\n",
    "| `N`            | **Neutral (AC input)**        | Connect to the **Neutral wire** of AC mains (usually blue/black) |\n",
    "| ⏚ (Ground)     | **Earth Ground**              | Connect to **Earth** (green/yellow) for safety                   |\n",
    "| `-V`           | **Negative DC Output**        | DC Ground (GND) — connect to the ground side of your device      |\n",
    "| `-V`           | **Negative DC Output**        | Same as above — dual terminals for high current distribution     |\n",
    "| `+V`           | **Positive DC Output**        | +5V — connect to the positive side of your device                |\n",
    "| `+V`           | **Positive DC Output**        | Same as above — dual terminals for current sharing               |\n",
    "| `ADJ`          | **Voltage Adjust (Trim Pot)** | Small screw to fine-tune output voltage (\\~±10%)                 |\n",
    "\n",
    "---\n",
    "\n",
    "### ⚠️ **Wiring Example (Standard AC to DC Usage)**\n",
    "\n",
    "#### AC Input (left side):\n",
    "\n",
    "* `L` → Connect to **Live** (mains AC)\n",
    "* `N` → Connect to **Neutral**\n",
    "* Ground ⏚ → Connect to **Earth Ground**\n",
    "\n",
    "#### DC Output (right side):\n",
    "\n",
    "* `+V` → Goes to **+5V line of your device**\n",
    "* `-V` → Goes to **GND line of your device**\n",
    "\n",
    "Use both `+V` and `-V` terminals if you're drawing high current (e.g., 10A+), to spread the load.\n",
    "\n",
    "---\n",
    "\n",
    "### 🔧 Notes\n",
    "\n",
    "* Always power off and double-check connections before turning on.\n",
    "* Ensure the **input voltage switch** (if present) matches your region (110V or 220V).\n",
    "* The small orange potentiometer marked `ADJ` allows fine-tuning (e.g., 5.1V or 4.9V)."
   ]
  },
  {
   "cell_type": "markdown",
   "id": "ee4e35ba-8d4f-47d5-a514-43dc321e061f",
   "metadata": {},
   "source": [
    "![](Led_diagram/led_types.webp)"
   ]
  },
  {
   "cell_type": "markdown",
   "id": "0f566d77-d6d4-4fdf-b0c6-526dc9403592",
   "metadata": {},
   "source": [
    "![](Led_diagram/led_wiring_diagram1.webp)"
   ]
  },
  {
   "cell_type": "markdown",
   "id": "72105b64-47bf-490a-88f3-d330b97cf985",
   "metadata": {},
   "source": [
    "![](Led_diagram/led_wiring_diagram2.webp)"
   ]
  },
  {
   "cell_type": "code",
   "execution_count": null,
   "id": "173d5fde-c444-439b-b38f-2ecf5eb0a812",
   "metadata": {},
   "outputs": [],
   "source": []
  }
 ],
 "metadata": {
  "kernelspec": {
   "display_name": "python3",
   "language": "python",
   "name": "python3"
  }
 },
 "nbformat": 4,
 "nbformat_minor": 5
}
